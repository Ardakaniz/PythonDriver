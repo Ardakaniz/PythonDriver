{
 "cells": [
  {
   "cell_type": "code",
   "execution_count": 1,
   "id": "176bece3-5e96-4a30-80ec-822eaa2b0581",
   "metadata": {},
   "outputs": [
    {
     "name": "stdout",
     "output_type": "stream",
     "text": [
      "0.10584044456481934\n"
     ]
    }
   ],
   "source": [
    "import aad\n",
    "from time import time\n",
    "\n",
    "start = time()\n",
    "driver = aad.AwesomeArrayDriver()\n",
    "end = time()\n",
    "print(end-start)"
   ]
  },
  {
   "cell_type": "code",
   "execution_count": 2,
   "id": "802eb068-ce93-47a7-82d4-d5965055c34f",
   "metadata": {},
   "outputs": [
    {
     "name": "stdout",
     "output_type": "stream",
     "text": [
      "396.10384702682495\n"
     ]
    }
   ],
   "source": [
    "start = time()\n",
    "for row in range(aad.SR_WORD_SIZE):\n",
    "    for col in range(aad.SR_WORD_SIZE):\n",
    "        driver.set(col=col, row=row, bar=False)\n",
    "        driver.set(col=col, row=row, bar=True)\n",
    "end = time()\n",
    "print(end-start)"
   ]
  },
  {
   "cell_type": "markdown",
   "id": "789f5f4e-b453-48dd-9536-685031624470",
   "metadata": {},
   "source": [
    "#### Before vs After moving shift registers fill from Python to C\n",
    "\n",
    "Before (Test 1): 858.3955516815186  \n",
    "Before (Test 2): 856.1749730110168  \n",
    "========================  \n",
    "After (Test 1): 394.1490559577942  \n",
    "After (Test 2): 396.10384702682495  "
   ]
  }
 ],
 "metadata": {
  "kernelspec": {
   "display_name": "Python 3 (ipykernel)",
   "language": "python",
   "name": "python3"
  },
  "language_info": {
   "codemirror_mode": {
    "name": "ipython",
    "version": 3
   },
   "file_extension": ".py",
   "mimetype": "text/x-python",
   "name": "python",
   "nbconvert_exporter": "python",
   "pygments_lexer": "ipython3",
   "version": "3.8.13"
  }
 },
 "nbformat": 4,
 "nbformat_minor": 5
}
