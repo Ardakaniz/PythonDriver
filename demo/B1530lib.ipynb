{
 "cells": [
  {
   "cell_type": "code",
   "execution_count": 1,
   "id": "53742146-6f12-4b16-be67-35ac47369da0",
   "metadata": {},
   "outputs": [
    {
     "name": "stdout",
     "output_type": "stream",
     "text": [
      "Help on module aad.B1530Lib in aad:\n",
      "\n",
      "NAME\n",
      "    aad.B1530Lib\n",
      "\n",
      "CLASSES\n",
      "    builtins.object\n",
      "        B1530\n",
      "        Pulse\n",
      "    \n",
      "    class B1530(builtins.object)\n",
      "     |  B1530(sampling_interval, average_time, addr='GPIB0::18::INSTR')\n",
      "     |  \n",
      "     |  Methods defined here:\n",
      "     |  \n",
      "     |  __del__(self)\n",
      "     |  \n",
      "     |  __init__(self, sampling_interval, average_time, addr='GPIB0::18::INSTR')\n",
      "     |      Initialize self.  See help(type(self)) for accurate signature.\n",
      "     |  \n",
      "     |  apply_pulses(self, pulses: List[aad.B1530Lib.Pulse])\n",
      "     |  \n",
      "     |  wgfmu_conf(self, wgfmu_id, measure_mode, measure_range, range_force='auto')\n",
      "     |  \n",
      "     |  wgfmu_conf_mode(self, wgfmu_id, op_mode)\n",
      "     |  \n",
      "     |  wgfmu_conf_pattern(self, wgfmu_id, pattern_name, measure_count, pattern_voltage, time_pattern, event_name, rdata='averaged')\n",
      "     |  \n",
      "     |  ----------------------------------------------------------------------\n",
      "     |  Data descriptors defined here:\n",
      "     |  \n",
      "     |  __dict__\n",
      "     |      dictionary for instance variables (if defined)\n",
      "     |  \n",
      "     |  __weakref__\n",
      "     |      list of weak references to the object (if defined)\n",
      "     |  \n",
      "     |  ----------------------------------------------------------------------\n",
      "     |  Data and other attributes defined here:\n",
      "     |  \n",
      "     |  DEFAULT_ADDR = 'GPIB0::18::INSTR'\n",
      "     |  \n",
      "     |  WGFMU_chans = {1: 101, 2: 102, 3: 201, 4: 202}\n",
      "    \n",
      "    class Pulse(builtins.object)\n",
      "     |  Methods defined here:\n",
      "     |  \n",
      "     |  get_time_pattern(self)\n",
      "     |  \n",
      "     |  ----------------------------------------------------------------------\n",
      "     |  Data descriptors defined here:\n",
      "     |  \n",
      "     |  __dict__\n",
      "     |      dictionary for instance variables (if defined)\n",
      "     |  \n",
      "     |  __weakref__\n",
      "     |      list of weak references to the object (if defined)\n",
      "     |  \n",
      "     |  ----------------------------------------------------------------------\n",
      "     |  Data and other attributes defined here:\n",
      "     |  \n",
      "     |  __annotations__ = {'lead': <class 'float'>, 'length': <class 'float'>,...\n",
      "\n",
      "FUNCTIONS\n",
      "    device_list()\n",
      "    \n",
      "    print_devices()\n",
      "\n",
      "DATA\n",
      "    List = typing.List\n",
      "\n",
      "FILE\n",
      "    c:\\users\\integnano\\anaconda3\\lib\\site-packages\\awesomearray_driver-0.0.1-py3.8.egg\\aad\\b1530lib.py\n",
      "\n",
      "\n"
     ]
    }
   ],
   "source": [
    "from aad import B1530Lib\n",
    "\n",
    "help(B1530Lib)"
   ]
  },
  {
   "cell_type": "code",
   "execution_count": 2,
   "id": "30c8c02a-16ef-4518-a765-4a6d6e747344",
   "metadata": {},
   "outputs": [
    {
     "name": "stdout",
     "output_type": "stream",
     "text": [
      "ASRL3::INSTR\n",
      "ASRL4::INSTR\n",
      "GPIB0::INTFC\n",
      "GPIB0::18::INSTR\n"
     ]
    }
   ],
   "source": [
    "B1530Lib.print_devices()\n",
    "b1530 = B1530Lib.B1530(1e-5, 0)"
   ]
  },
  {
   "cell_type": "code",
   "execution_count": 3,
   "id": "7c2c39b6-0aca-40a5-848e-bae7b8a6f56c",
   "metadata": {},
   "outputs": [],
   "source": [
    "pulse = B1530Lib.Pulse()\n",
    "pulse.name = 'VA'\n",
    "pulse.meas  = 'voltage'\n",
    "pulse.range = '5V'\n",
    "pulse.pattern_voltage = [0, 0.03, 0.03, 0, 0]\n",
    "pulse.trail = 100e-5\n",
    "pulse.lead  = 100e-5\n",
    "pulse.wait_time = 0.1e-6\n",
    "pulse.length = 15000e-6"
   ]
  },
  {
   "cell_type": "code",
   "execution_count": 4,
   "id": "480a6c81-c7f8-4754-93bc-7b0032cc1718",
   "metadata": {},
   "outputs": [],
   "source": [
    "b1530.apply_pulses([None, pulse, None, None])"
   ]
  }
 ],
 "metadata": {
  "kernelspec": {
   "display_name": "Python 3.8.8 ('base')",
   "language": "python",
   "name": "python3"
  },
  "language_info": {
   "codemirror_mode": {
    "name": "ipython",
    "version": 3
   },
   "file_extension": ".py",
   "mimetype": "text/x-python",
   "name": "python",
   "nbconvert_exporter": "python",
   "pygments_lexer": "ipython3",
   "version": "3.8.8"
  },
  "vscode": {
   "interpreter": {
    "hash": "468b8cd6d1647506cfe2f52d2d6da2ff11d7cb6a102ed22974833925ef5d7420"
   }
  }
 },
 "nbformat": 4,
 "nbformat_minor": 5
}
