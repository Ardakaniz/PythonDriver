{
	"cells": [
		{
			"cell_type": "code",
			"execution_count": 1,
			"id": "53742146-6f12-4b16-be67-35ac47369da0",
			"metadata": {},
			"outputs": [],
			"source": [
				"from aad import B1530Lib\n",
				"\n",
				"#help(B1530Lib)"
			]
		},
		{
			"cell_type": "code",
			"execution_count": 2,
			"id": "30c8c02a-16ef-4518-a765-4a6d6e747344",
			"metadata": {},
			"outputs": [
				{
					"name": "stdout",
					"output_type": "stream",
					"text": [
						"ASRL3::INSTR\n",
						"ASRL4::INSTR\n",
						"GPIB0::INTFC\n",
						"GPIB0::18::INSTR\n"
					]
				}
			],
			"source": [
				"B1530Lib.print_devices()\n",
				"b = B1530Lib.B1530()"
			]
		},
		{
			"cell_type": "code",
			"execution_count": 3,
			"id": "480a6c81-c7f8-4754-93bc-7b0032cc1718",
			"metadata": {},
			"outputs": [],
			"source": [
				"# 2.5V Pulse of a length of 0.1s with 0.1s between each, measure its value\n",
				"b.chan[2].waveform = B1530Lib.Pulse(voltage=2.5, interval=100e-3, edges=1e-3, length=100e-3)\n",
				"b.chan[2].measurement = b.chan[2].waveform.measure(mode='voltage', range='5V', average_time=1e-3, sample_rate=10e-3)\n",
				"\n",
				"# For fun, decreasing ramp\n",
				"b.chan[3].waveform = B1530Lib.Waveform(pattern=[[0, 2.5], [b.chan[2].waveform.get_total_duration(), 0]])\n",
				"\n",
				"# Dont start the measurement before the input voltage is set\n",
				"b.chan[1].measurement = b.chan[2].waveform.measure(mode='current', range='10mA', average_time=1e-3, sample_rate=10e-3, when_established=True)\n",
				"\n",
				"# Run twice for fun\n",
				"b.configure(repeat=2)"
			]
		},
		{
			"cell_type": "code",
			"execution_count": 4,
			"id": "ffb6b144",
			"metadata": {},
			"outputs": [],
			"source": [
				"b.exec()"
			]
		},
		{
			"cell_type": "code",
			"execution_count": 5,
			"id": "e00569af",
			"metadata": {},
			"outputs": [
				{
					"name": "stdout",
					"output_type": "stream",
					"text": [
						"  T (s)  \t   U (V)\n",
						"0.000500 \t -0.000711\n",
						"0.010500 \t -0.000802\n",
						"0.020500 \t -0.000706\n",
						"0.030500 \t -0.000676\n",
						"0.040500 \t -0.000734\n",
						"0.050500 \t 1.249834\n",
						"0.060500 \t 2.500016\n",
						"0.070500 \t 2.500296\n",
						"0.080500 \t 2.500204\n",
						"0.090500 \t 2.500184\n",
						"0.100500 \t 2.500290\n",
						"0.110500 \t 2.500185\n",
						"0.120500 \t 2.500278\n",
						"0.130500 \t 2.500340\n",
						"0.140500 \t 2.500161\n",
						"0.150500 \t 2.500290\n",
						"0.160500 \t -0.000689\n",
						"0.170500 \t -0.000668\n",
						"0.180500 \t -0.000588\n",
						"0.190500 \t -0.000688\n",
						"**************************\n",
						"0.202500 \t -0.000628\n",
						"0.212500 \t -0.000617\n",
						"0.222500 \t -0.000567\n",
						"0.232500 \t -0.000569\n",
						"0.242500 \t -0.000647\n",
						"0.252500 \t 1.249797\n",
						"0.262500 \t 2.500277\n",
						"0.272500 \t 2.500243\n",
						"0.282500 \t 2.500580\n",
						"0.292500 \t 2.500350\n",
						"0.302500 \t 2.500337\n",
						"0.312500 \t 2.500217\n",
						"0.322500 \t 2.500389\n",
						"0.332500 \t 2.500512\n",
						"0.342500 \t 2.500492\n",
						"0.352500 \t 2.500340\n",
						"0.362500 \t -0.000676\n",
						"0.372500 \t -0.000684\n",
						"0.382500 \t -0.000729\n",
						"0.392500 \t -0.000586\n",
						"**************************\n",
						"--------------------------\n",
						"  T (s)  \t   I (A)\n",
						"0.051500 \t -0.003078\n",
						"0.061500 \t -0.003078\n",
						"0.071500 \t -0.003078\n",
						"0.081500 \t -0.003078\n",
						"0.091500 \t -0.003078\n",
						"0.101500 \t -0.003078\n",
						"0.111500 \t -0.003078\n",
						"0.121500 \t -0.003078\n",
						"0.131500 \t -0.003078\n",
						"0.141500 \t -0.003078\n",
						"**************************\n",
						"0.202500 \t -0.000001\n",
						"0.212500 \t -0.000001\n",
						"0.222500 \t -0.000001\n",
						"0.232500 \t -0.000001\n",
						"0.242500 \t -0.000001\n",
						"0.252500 \t -0.001539\n",
						"0.262500 \t -0.003078\n",
						"0.272500 \t -0.003078\n",
						"0.282500 \t -0.003078\n",
						"0.292500 \t -0.003078\n",
						"**************************\n"
					]
				}
			],
			"source": [
				"print(\"  T (s) \", '\\t', \"  U (V)\")\n",
				"for i in range(len(b.chan[2].measurement.result)):\n",
				"  for time, meas in b.chan[2].measurement.get_result(i):\n",
				"    print(\"{:.6f}\".format(time), '\\t', \"{:.6f}\".format(meas))\n",
				"  print(\"*\" * 26)\n",
				"\n",
				"print('=' * 26)\n",
				"print(\"  T (s) \", '\\t', \"  I (A)\")\n",
				"for i in range(len(b.chan[1].measurement.result)):\n",
				"  for time, meas in b.chan[1].measurement.get_result(i):\n",
				"    print(\"{:.6f}\".format(time), '\\t', \"{:.6f}\".format(meas))\n",
				"  print(\"*\" * 26)\n",
				"  "
			]
		},
		{
			"cell_type": "markdown",
			"id": "0afe24ab",
			"metadata": {},
			"source": [
				"A resistor of 820 Ω is measured for a voltage of 2.5V : 2.5/820 = 30.48mA, OK  \n",
				" \n",
				"There are 0s because the next measurement starts after 'start_delay's of the end of the last *measurements*, and not the last *pulse*..."
			]
		}
	],
	"metadata": {
		"kernelspec": {
			"display_name": "Python 3.8.13 ('aad_dev')",
			"language": "python",
			"name": "python3"
		},
		"language_info": {
			"codemirror_mode": {
				"name": "ipython",
				"version": 3
			},
			"file_extension": ".py",
			"mimetype": "text/x-python",
			"name": "python",
			"nbconvert_exporter": "python",
			"pygments_lexer": "ipython3",
			"version": "3.8.13"
		},
		"vscode": {
			"interpreter": {
				"hash": "cc6cbd181455894f626c4acc21d7a32f0325d55f5064c5fe5438dbd81ecf67ab"
			}
		}
	},
	"nbformat": 4,
	"nbformat_minor": 5
}
