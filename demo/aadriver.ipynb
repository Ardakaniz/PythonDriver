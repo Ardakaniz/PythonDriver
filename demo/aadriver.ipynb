{
 "cells": [
  {
   "cell_type": "code",
   "execution_count": 1,
   "metadata": {},
   "outputs": [],
   "source": [
    "import os\n",
    "os.chdir('..')\n",
    "\n",
    "import aad"
   ]
  },
  {
   "cell_type": "code",
   "execution_count": 2,
   "metadata": {},
   "outputs": [],
   "source": [
    "try:\n",
    "\tdriver = aad.AwesomeArrayDriver()\n",
    "except Exception as e:\n",
    "\tprint(e)\n",
    "\tprint(\"---- List of available ports ----\")\n",
    "\taad.print_ports()"
   ]
  },
  {
   "cell_type": "code",
   "execution_count": 3,
   "metadata": {},
   "outputs": [
    {
     "name": "stdout",
     "output_type": "stream",
     "text": [
      "Interrupted\n"
     ]
    }
   ],
   "source": [
    "import time\n",
    "\n",
    "try:\n",
    "\twhile True:\n",
    "\t\tfor col in range(64):\n",
    "\t\t\tfor row in range(64):\n",
    "\t\t\t\tdriver.set(col=col, row=row, bis=False)\n",
    "\t\t\t\ttime.sleep(0.01) # Sleeps to be able to distinguish the signals on the scope\n",
    "\t\t\ttime.sleep(0.5)\n",
    "except:\n",
    "\tprint(\"Interrupted\")\n",
    "\tdriver.reset_state()"
   ]
  }
 ],
 "metadata": {
  "interpreter": {
   "hash": "916dbcbb3f70747c44a77c7bcd40155683ae19c65e1c03b4aa3499c5328201f1"
  },
  "kernelspec": {
   "display_name": "Python 3.9.2 64-bit",
   "language": "python",
   "name": "python3"
  },
  "language_info": {
   "codemirror_mode": {
    "name": "ipython",
    "version": 3
   },
   "file_extension": ".py",
   "mimetype": "text/x-python",
   "name": "python",
   "nbconvert_exporter": "python",
   "pygments_lexer": "ipython3",
   "version": "3.9.2"
  },
  "orig_nbformat": 4
 },
 "nbformat": 4,
 "nbformat_minor": 2
}
