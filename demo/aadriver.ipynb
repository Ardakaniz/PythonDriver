{
 "cells": [
  {
   "cell_type": "markdown",
   "metadata": {},
   "source": [
    "# Awesome Array Driver\n",
    "\n",
    "----"
   ]
  },
  {
   "cell_type": "code",
   "execution_count": 1,
   "metadata": {},
   "outputs": [
    {
     "name": "stdout",
     "output_type": "stream",
     "text": [
      "Help on package aad:\n",
      "\n",
      "NAME\n",
      "    aad\n",
      "\n",
      "PACKAGE CONTENTS\n",
      "    B1530Lib\n",
      "    extlibs (package)\n",
      "    mcd\n",
      "\n",
      "CLASSES\n",
      "    builtins.object\n",
      "        AwesomeArrayDriver\n",
      "    \n",
      "    class AwesomeArrayDriver(builtins.object)\n",
      "     |  AwesomeArrayDriver(uc_pid=22336, visa_addr='GPIB0::18::INSTR')\n",
      "     |  \n",
      "     |  Awesome Array Driver\n",
      "     |  \n",
      "     |  ...\n",
      "     |  Attributes\n",
      "     |  ----------\n",
      "     |  _mcd: mcd.MCDriver\n",
      "     |          The low-level driver used for the µc\n",
      "     |  \n",
      "     |  _b1530: B1530Lib.B1530\n",
      "     |          The driver used to control the B1530\n",
      "     |  \n",
      "     |  Methods defined here:\n",
      "     |  \n",
      "     |  __init__(self, uc_pid=22336, visa_addr='GPIB0::18::INSTR')\n",
      "     |      Creates the driver.\n",
      "     |      \n",
      "     |      Details:\n",
      "     |              It will search for the µc using the PID value 'DEFAULT_PID' or the one provided in argument.\n",
      "     |              Takes the first found if many have the same PID.\n",
      "     |              RAISE Exception if not found.\n",
      "     |      \n",
      "     |      Arguments:\n",
      "     |              pid: optional, the pid to search for.\n",
      "     |  \n",
      "     |  configure_sr(self, col: int, row: int, bar: bool, set: bool)\n",
      "     |      Configure the shift registers for the given memristor location and state.\n",
      "     |      \n",
      "     |      Parameters:\n",
      "     |              col: int, row: int, bar: bool : Memristor location\n",
      "     |              set: bool : Memristor state\n",
      "     |      \n",
      "     |      Returns:\n",
      "     |              An array containing the shift registers words set.\n",
      "     |  \n",
      "     |  configure_sr_words(self, sr_words: List[int])\n",
      "     |      Configure the shift registers with the given words.\n",
      "     |      \n",
      "     |      Parameters:\n",
      "     |              sr_words: List[int] : The words to configure the shift registers with.\n",
      "     |  \n",
      "     |  form(self, col, row, bar=False)\n",
      "     |      Forms the memristor at the given address.\n",
      "     |      \n",
      "     |      Parameters:\n",
      "     |              col: Address of the column\n",
      "     |              row: Address of the row\n",
      "     |              bar: If True, forms the memristor Rb instead of R\n",
      "     |  \n",
      "     |  get_sr_configuration(self, col: int, row: int, bar: bool, set: bool)\n",
      "     |      Gives the shift registers words for the given memristor location and state.\n",
      "     |      \n",
      "     |      Parameters:\n",
      "     |              col: int, row: int, bar: bool : Memristor location\n",
      "     |              set: bool : Memristor state\n",
      "     |      \n",
      "     |      Returns:\n",
      "     |              An array containing the computed shift registers words\n",
      "     |  \n",
      "     |  reset(self, col, row, bar=False)\n",
      "     |      Resets the memristor at the given address.\n",
      "     |      \n",
      "     |      Parameters:\n",
      "     |              col: Address of the column\n",
      "     |              row: Address of the row\n",
      "     |              bar: If True, resets the memristor Rb instead of R\n",
      "     |  \n",
      "     |  reset_state(self)\n",
      "     |      Resets the state of the driver, to run after exception catching for example.\n",
      "     |  \n",
      "     |  set(self, col, row, bar=False)\n",
      "     |      Sets the memristor at the given address.\n",
      "     |      \n",
      "     |      Parameters:\n",
      "     |              col: Address of the column\n",
      "     |              row: Address of the row\n",
      "     |              bar: If True, sets the memristor Rb instead of R\n",
      "     |  \n",
      "     |  test_sr_sanity(self, col: int, row: int, bar: bool, set: bool)\n",
      "     |      Tests the shift registers sanity for the given configuration of memristor location and state.\n",
      "     |      \n",
      "     |      Parameters:\n",
      "     |              col: int, row: int, bar: bool : Memristor location\n",
      "     |              set: bool : Memristor state\n",
      "     |      \n",
      "     |      Returns:\n",
      "     |              A 2D array containing the sanity of the shift register's bits.\n",
      "     |              Details:\n",
      "     |                      sanity[shitreg_id][bit_id] = True if sane, False otherwise\n",
      "     |  \n",
      "     |  test_sr_words_sanity(self, sr_words: List[int])\n",
      "     |      Tests the shift registers sanity for the given words.\n",
      "     |      \n",
      "     |      Parameters:\n",
      "     |              sr_words: List[int] : The words to configure the shift registers with.\n",
      "     |      \n",
      "     |      Returns:\n",
      "     |              A 2D array containing the sanity of the shift register's bits.\n",
      "     |              Details:\n",
      "     |                      sanity[shitreg_id][bit_id] = True if sane, False otherwise\n",
      "     |  \n",
      "     |  ----------------------------------------------------------------------\n",
      "     |  Data descriptors defined here:\n",
      "     |  \n",
      "     |  __dict__\n",
      "     |      dictionary for instance variables (if defined)\n",
      "     |  \n",
      "     |  __weakref__\n",
      "     |      list of weak references to the object (if defined)\n",
      "\n",
      "DATA\n",
      "    List = typing.List\n",
      "    SR_COUNT = 5\n",
      "    SR_LIST = [<SR.WLE: 0>, <SR.WLO: 1>, <SR.SL: 2>, <SR.BL: 3>, <SR.BLB: ...\n",
      "    SR_WORD_SIZE = 64\n",
      "\n",
      "FILE\n",
      "    c:\\users\\integnano\\documents\\adrien\\awesomearray-pythondriver\\aad\\__init__.py\n",
      "\n",
      "\n"
     ]
    }
   ],
   "source": [
    "import aad\n",
    "\n",
    "help(aad)"
   ]
  },
  {
   "cell_type": "markdown",
   "metadata": {},
   "source": [
    "---"
   ]
  },
  {
   "cell_type": "code",
   "execution_count": 2,
   "metadata": {},
   "outputs": [
    {
     "name": "stdout",
     "output_type": "stream",
     "text": [
      "---- List of available ports ----\n",
      "COM4 - USB Serial Device (COM4) | PID:  22336\n",
      "COM3 - Intel(R) Active Management Technology - SOL (COM3) | PID:  None\n",
      "---- List of available lab equipment ----\n",
      "ASRL3::INSTR\n",
      "ASRL4::INSTR\n",
      "GPIB0::INTFC\n",
      "GPIB0::18::INSTR\n"
     ]
    }
   ],
   "source": [
    "print(\"---- List of available ports ----\")\n",
    "aad.print_ports()\n",
    "\n",
    "print(\"---- List of available lab equipment ----\")\n",
    "aad.print_visa_dev()"
   ]
  },
  {
   "cell_type": "markdown",
   "metadata": {},
   "source": [
    "The communication with the µc is done via `USB Serial Device` at `COM4`.  \n",
    "The driver will search by default for a device with `PID` 22336.   \n",
    "\n",
    "The B1500 is at the adress `GPIB0::18::INSTR`."
   ]
  },
  {
   "cell_type": "code",
   "execution_count": 3,
   "metadata": {},
   "outputs": [
    {
     "name": "stdout",
     "output_type": "stream",
     "text": [
      "The driver selected the port: COM4\n"
     ]
    }
   ],
   "source": [
    "driver = aad.AwesomeArrayDriver()\n",
    "\n",
    "print(\"The driver selected the port:\", driver._mcd.ser.port)"
   ]
  },
  {
   "cell_type": "markdown",
   "metadata": {},
   "source": [
    "If no device with such `PID` was found, an exception would be raised.  \n",
    "You can then check the connection, or use `aad.print_ports` to find the correct `PID` and give it as an argument of the constructor:  \n",
    "```\n",
    "driver = aad.AwesomeArrayDriver(uc_pid=...)\n",
    "```\n",
    "\n",
    "If the B1500 address is wrong, an exception would be raised.  \n",
    "You can then check the connection, or use `aad.print_visa_dev` to find the correct address and give it as an argument of the constructor:\n",
    "```\n",
    "driver = aad.AwesomeArrayDriver(visa_addr=...)\n",
    "```\n",
    "\n",
    "---  \n",
    "(For now, the driver only configures the shift registers)  \n",
    "A memristor location is given by three parameters:\n",
    "* `col`: integer : Address of the column in the array\n",
    "* `row`: integer : Address of the row in the array\n",
    "* `bar`: boolean : Whether to select the memristor Rb (if True) or R (otherwise)  \n",
    "\n",
    "Then, you can set the individual state of a memristor using the functions `set` or `reset`.  \n",
    "You can also form the memristor first using the function `form`.  \n",
    "\n",
    "For a more complete description, see the `help` output above.\n",
    "\n",
    "----"
   ]
  },
  {
   "cell_type": "code",
   "execution_count": 4,
   "metadata": {},
   "outputs": [],
   "source": [
    "# Sanity check of the shift registers for one particular configuration\n",
    "sanity = driver.test_sr_sanity(col=0, row=0, bar=False, set=True)\n",
    "for sr_id in aad.SR_LIST:\n",
    "\tfor bit_id in range(64):\n",
    "\t\t# Usually, the condition would be \"not ...\" but for this test, the output is random and most registers will appear as not sane\n",
    "\t\tif sanity[sr_id][bit_id]:\n",
    "\t\t\tprint(f\"{str(sr_id)}'s bit #{bit_id} is sane\")"
   ]
  },
  {
   "cell_type": "code",
   "execution_count": 5,
   "metadata": {},
   "outputs": [],
   "source": [
    "driver.set(col=0, row=0, bar=False)\n",
    "driver.reset(col=0, row=0, bar=True)"
   ]
  }
 ],
 "metadata": {
  "kernelspec": {
   "display_name": "Python 3.8.13 ('aad_dev')",
   "language": "python",
   "name": "python3"
  },
  "language_info": {
   "codemirror_mode": {
    "name": "ipython",
    "version": 3
   },
   "file_extension": ".py",
   "mimetype": "text/x-python",
   "name": "python",
   "nbconvert_exporter": "python",
   "pygments_lexer": "ipython3",
   "version": "3.8.13"
  },
  "vscode": {
   "interpreter": {
    "hash": "cc6cbd181455894f626c4acc21d7a32f0325d55f5064c5fe5438dbd81ecf67ab"
   }
  }
 },
 "nbformat": 4,
 "nbformat_minor": 2
}
