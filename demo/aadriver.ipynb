{
 "cells": [
  {
   "cell_type": "markdown",
   "metadata": {},
   "source": [
    "# Awesome Array Driver\n",
    "\n",
    "----"
   ]
  },
  {
   "cell_type": "code",
   "execution_count": 1,
   "metadata": {},
   "outputs": [
    {
     "name": "stdout",
     "output_type": "stream",
     "text": [
      "Help on package aad:\n",
      "\n",
      "NAME\n",
      "    aad\n",
      "\n",
      "PACKAGE CONTENTS\n",
      "    lld\n",
      "\n",
      "CLASSES\n",
      "    builtins.object\n",
      "        AwesomeArrayDriver\n",
      "    \n",
      "    class AwesomeArrayDriver(builtins.object)\n",
      "     |  AwesomeArrayDriver(pin=22336)\n",
      "     |  \n",
      "     |  Awesome Array Driver\n",
      "     |  \n",
      "     |  ...\n",
      "     |  Attributes\n",
      "     |  ----------\n",
      "     |  _lld: lld.LLDriver\n",
      "     |          The low-level driver used for the µc\n",
      "     |  \n",
      "     |  Methods defined here:\n",
      "     |  \n",
      "     |  __init__(self, pin=22336)\n",
      "     |      Creates the driver.\n",
      "     |      \n",
      "     |      Details:\n",
      "     |              It will search for the µc using the PID value 'DEFAULT_PID' or the one provided in argument.\n",
      "     |              Takes the first found if many have the same PID.\n",
      "     |              RAISE if not found.\n",
      "     |      \n",
      "     |      Arguments:\n",
      "     |              pid: optional, the pid to search for.\n",
      "     |  \n",
      "     |  configure_sr(self, col: int, row: int, bar: bool, set: bool)\n",
      "     |      Configure the shift registers for the given memristor location and state.\n",
      "     |      \n",
      "     |      Parameters:\n",
      "     |              col: int, row: int, bar: bool : Memristor location\n",
      "     |              set: bool : Memristor state\n",
      "     |      \n",
      "     |      Returns:\n",
      "     |              An array containing the shift registers words set.\n",
      "     |  \n",
      "     |  configure_sr_words(self, sr_words: List[int])\n",
      "     |      Configure the shift registers with the given words.\n",
      "     |      \n",
      "     |      Parameters:\n",
      "     |              sr_words: List[int] : The words to configure the shift registers with.\n",
      "     |  \n",
      "     |  form(self, col, row, bar=False)\n",
      "     |      Forms the memristor at the given address.\n",
      "     |      \n",
      "     |      Parameters:\n",
      "     |              col: Address of the column\n",
      "     |              row: Address of the row\n",
      "     |              bar: If True, forms the memristor Rb instead of R\n",
      "     |  \n",
      "     |  reset(self, col, row, bar=False)\n",
      "     |      Resets the memristor at the given address.\n",
      "     |      \n",
      "     |      Parameters:\n",
      "     |              col: Address of the column\n",
      "     |              row: Address of the row\n",
      "     |              bar: If True, resets the memristor Rb instead of R\n",
      "     |  \n",
      "     |  reset_state(self)\n",
      "     |      Resets the state of the driver, to run after exception catching for example.\n",
      "     |  \n",
      "     |  set(self, col, row, bar=False)\n",
      "     |      Sets the memristor at the given address.\n",
      "     |      \n",
      "     |      Parameters:\n",
      "     |              col: Address of the column\n",
      "     |              row: Address of the row\n",
      "     |              bar: If True, sets the memristor Rb instead of R\n",
      "     |  \n",
      "     |  test_sr_sanity(self, col: int, row: int, bar: bool, set: bool)\n",
      "     |      Tests the shift registers sanity for the given configuration of memristor location and state.\n",
      "     |      \n",
      "     |      Parameters:\n",
      "     |              col: int, row: int, bar: bool : Memristor location\n",
      "     |              set: bool : Memristor state\n",
      "     |      \n",
      "     |      Returns:\n",
      "     |              A 2D array containing the sanity of the shift register's bits.\n",
      "     |              Details:\n",
      "     |                      sanity[shitreg_id][bit_id] = True if sane, False otherwise\n",
      "     |  \n",
      "     |  ----------------------------------------------------------------------\n",
      "     |  Data descriptors defined here:\n",
      "     |  \n",
      "     |  __dict__\n",
      "     |      dictionary for instance variables (if defined)\n",
      "     |  \n",
      "     |  __weakref__\n",
      "     |      list of weak references to the object (if defined)\n",
      "\n",
      "FUNCTIONS\n",
      "    get_sr_name(sr_id)\n",
      "        Returns the name of the SR with the given ID.\n",
      "\n",
      "DATA\n",
      "    List = typing.List\n",
      "        A generic version of list.\n",
      "    \n",
      "    SR_count = 5\n",
      "    SR_list = [0, 1, 2, 3, 4]\n",
      "\n",
      "FILE\n",
      "    /shared/Documents/Cours/Stages/L3/Codes/AwesomeArray-PythonDriver/aad/__init__.py\n",
      "\n",
      "\n"
     ]
    }
   ],
   "source": [
    "import os\n",
    "os.chdir('..')\n",
    "\n",
    "import aad\n",
    "\n",
    "help(aad)"
   ]
  },
  {
   "cell_type": "markdown",
   "metadata": {},
   "source": [
    "---"
   ]
  },
  {
   "cell_type": "code",
   "execution_count": 2,
   "metadata": {},
   "outputs": [
    {
     "name": "stdout",
     "output_type": "stream",
     "text": [
      "---- List of available ports ----\n",
      "COM3 - Intel(R) Active Management Technology - SOL (COM3) | PID:  None\n",
      "COM1 - Communications Port (COM1) | PID:  None\n",
      "COM6 - USB Serial Device (COM6) | PID:  22336\n",
      "COM5 - STMicroelectronics STLink Virtual COM Port (COM5) | PID:  14155\n"
     ]
    }
   ],
   "source": [
    "print(\"---- List of available ports ----\")\n",
    "aad.print_ports()"
   ]
  },
  {
   "cell_type": "markdown",
   "metadata": {},
   "source": [
    "The communication with the µc is done via `USB Serial Device` at `COM6`. `COM5` is used only for power and its programming (i.e. not interesting for us).  \n",
    "The driver will search by default for a device with `PID` 22336."
   ]
  },
  {
   "cell_type": "code",
   "execution_count": 3,
   "metadata": {},
   "outputs": [
    {
     "name": "stdout",
     "output_type": "stream",
     "text": [
      "The driver selected the port: COM6\n"
     ]
    }
   ],
   "source": [
    "driver = aad.AwesomeArrayDriver()\n",
    "\n",
    "print(\"The driver selected the port:\", driver._lld.ser.port)"
   ]
  },
  {
   "cell_type": "markdown",
   "metadata": {},
   "source": [
    "If no device with such `PID` was found, an exception would be raised.  \n",
    "You can then check the connection, or use `aad.print_ports` to find the correct `PID` and give it as an argument of the constructor:  \n",
    "```\n",
    "driver = aad.AwesomeArrayDriver(correct_pid)\n",
    "```\n",
    "\n",
    "---  \n",
    "(For now, the driver only configures the shift registers)  \n",
    "A memristor location is given by three parameters:\n",
    "* `col`: integer : Address of the column in the array\n",
    "* `row`: integer : Address of the row in the array\n",
    "* `bar`: boolean : Whether to select the memristor Rb (if True) or R (otherwise)  \n",
    "\n",
    "Then, you can set the individual state of a memristor using the functions `set` or `reset`.  \n",
    "You can also form the memristor first using the function `form`.  \n",
    "\n",
    "For a more complete description, see the `help` output above.\n",
    "\n",
    "----"
   ]
  },
  {
   "cell_type": "code",
   "execution_count": 4,
   "metadata": {},
   "outputs": [
    {
     "name": "stdout",
     "output_type": "stream",
     "text": [
      "WLE's bit #0 is sane\n",
      "SL's bit #0 is sane\n",
      "BLB's bit #0 is sane\n"
     ]
    }
   ],
   "source": [
    "# Sanity check of the shift registers for one particular configuration\n",
    "sanity = driver.test_sr_sanity(col=0, row=0, bar=False, set=True)\n",
    "for sr_id in aad.SR_list:\n",
    "\tfor bit_id in range(64):\n",
    "\t\t# Usually, the condition would be \"not ...\" but for this test, the output is random and most registers will appear as not sane\n",
    "\t\tif sanity[sr_id][bit_id]:\n",
    "\t\t\tprint(f\"{aad.get_sr_name(sr_id)}'s bit #{bit_id} is sane\")"
   ]
  },
  {
   "cell_type": "code",
   "execution_count": 5,
   "metadata": {},
   "outputs": [],
   "source": [
    "driver.set(col=0, row=0, bar=False)\n",
    "driver.reset(col=0, row=0, bar=True)"
   ]
  }
 ],
 "metadata": {
  "interpreter": {
   "hash": "916dbcbb3f70747c44a77c7bcd40155683ae19c65e1c03b4aa3499c5328201f1"
  },
  "kernelspec": {
   "display_name": "Python 3 (ipykernel)",
   "language": "python",
   "name": "python3"
  },
  "language_info": {
   "codemirror_mode": {
    "name": "ipython",
    "version": 3
   },
   "file_extension": ".py",
   "mimetype": "text/x-python",
   "name": "python",
   "nbconvert_exporter": "python",
   "pygments_lexer": "ipython3",
   "version": "3.9.2"
  }
 },
 "nbformat": 4,
 "nbformat_minor": 2
}
