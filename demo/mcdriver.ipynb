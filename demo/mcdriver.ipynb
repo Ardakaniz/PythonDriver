{
 "cells": [
  {
   "cell_type": "markdown",
   "metadata": {},
   "source": [
    "# MicroController Driver Demo\n",
    "This is the microcontroller driver to make a bridge between the µc and Python.  \n",
    "\n",
    "----"
   ]
  },
  {
   "cell_type": "code",
   "execution_count": 1,
   "metadata": {},
   "outputs": [],
   "source": [
    "from aad import mcd"
   ]
  },
  {
   "cell_type": "code",
   "execution_count": 2,
   "metadata": {
    "scrolled": true
   },
   "outputs": [
    {
     "name": "stdout",
     "output_type": "stream",
     "text": [
      "---- List of available commands ----\n",
      "* CMD.SET_SR\n",
      "* CMD.FILL_SRs\n",
      "* CMD.SET_CS\n",
      "* CMD.SET_ADR_R\n",
      "* CMD.SET_ADR_C\n",
      "* CMD.GET_CTL\n",
      "* CMD.CLK\n",
      "* CMD.CLK_SR\n",
      "* CMD.CLK_XNOR\n",
      "* CMD.ACK_MODE\n",
      "* CMD.DEBUG_ECHO\n",
      "* CMD.DEBUG_LED\n"
     ]
    }
   ],
   "source": [
    "print(\"---- List of available commands ----\")\n",
    "for com in mcd.CMD_LIST:\n",
    "    print(\"*\", com)"
   ]
  },
  {
   "cell_type": "markdown",
   "metadata": {},
   "source": [
    "----\n"
   ]
  },
  {
   "cell_type": "code",
   "execution_count": 3,
   "metadata": {},
   "outputs": [
    {
     "name": "stdout",
     "output_type": "stream",
     "text": [
      "---- List of available ports ----\n",
      "COM3 - Intel(R) Active Management Technology - SOL (COM3) | PID:  None\n",
      "COM6 - USB Serial Device (COM6) | PID:  22336\n"
     ]
    }
   ],
   "source": [
    "print(\"---- List of available ports ----\")\n",
    "mcd.MCDriver.print_ports()"
   ]
  },
  {
   "cell_type": "markdown",
   "metadata": {},
   "source": [
    "We see that the µc is at the port `COM6`"
   ]
  },
  {
   "cell_type": "code",
   "execution_count": 4,
   "metadata": {},
   "outputs": [
    {
     "name": "stdout",
     "output_type": "stream",
     "text": [
      "Port selected by the MCDriver: COM6\n"
     ]
    }
   ],
   "source": [
    "driver = mcd.MCDriver()\n",
    "print(\"Port selected by the MCDriver:\", driver.ser.port)"
   ]
  },
  {
   "cell_type": "markdown",
   "metadata": {},
   "source": [
    "The MCDriver selected it by default.  \n",
    "\n",
    "---"
   ]
  },
  {
   "cell_type": "code",
   "execution_count": 5,
   "metadata": {},
   "outputs": [
    {
     "data": {
      "text/plain": [
       "b'Hello, C2N!'"
      ]
     },
     "execution_count": 5,
     "metadata": {},
     "output_type": "execute_result"
    }
   ],
   "source": [
    "driver.debug_led()"
   ]
  },
  {
   "cell_type": "code",
   "execution_count": 6,
   "metadata": {},
   "outputs": [
    {
     "data": {
      "text/plain": [
       "b'!'"
      ]
     },
     "execution_count": 6,
     "metadata": {},
     "output_type": "execute_result"
    }
   ],
   "source": [
    "driver.debug_echo(b'!')"
   ]
  },
  {
   "cell_type": "code",
   "execution_count": 7,
   "metadata": {},
   "outputs": [
    {
     "name": "stdout",
     "output_type": "stream",
     "text": [
      "This should give 'True': False\n"
     ]
    }
   ],
   "source": [
    "# Check WLE sanity\n",
    "driver.ack_mode(mcd.ACK.CLK_SR) # To make sur the clk is over before send other commands\n",
    "\n",
    "driver.set_sr(mcd.SR.WLE, mcd.State.SET)\n",
    "driver.clk_sr()\n",
    "driver.set_sr(mcd.SR.WLE, mcd.State.RESET)\n",
    "\n",
    "for _ in range(63):\n",
    "\tdriver.clk_sr()\n",
    "\n",
    "ctl = driver.get_ctl(mcd.SR.WLE)\n",
    "print(\"This should give 'True':\", ctl == mcd.State.SET)\n",
    "\n",
    "# (Random result for now, it will not when the AwesomeArray will tested and working)"
   ]
  }
 ],
 "metadata": {
  "kernelspec": {
   "display_name": "Python 3.8.8 ('base')",
   "language": "python",
   "name": "python3"
  },
  "language_info": {
   "codemirror_mode": {
    "name": "ipython",
    "version": 3
   },
   "file_extension": ".py",
   "mimetype": "text/x-python",
   "name": "python",
   "nbconvert_exporter": "python",
   "pygments_lexer": "ipython3",
   "version": "3.8.8"
  },
  "vscode": {
   "interpreter": {
    "hash": "468b8cd6d1647506cfe2f52d2d6da2ff11d7cb6a102ed22974833925ef5d7420"
   }
  }
 },
 "nbformat": 4,
 "nbformat_minor": 2
}
