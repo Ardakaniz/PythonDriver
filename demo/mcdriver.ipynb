{
 "cells": [
  {
   "cell_type": "markdown",
   "metadata": {},
   "source": [
    "# MicroController Driver Demo\n",
    "This is the microcontroller driver to make a bridge between the µc and Python.  \n",
    "\n",
    "----"
   ]
  },
  {
   "cell_type": "code",
   "execution_count": 1,
   "metadata": {},
   "outputs": [
    {
     "name": "stdout",
     "output_type": "stream",
     "text": [
      "Help on class MCDriver in module aad.mcd:\n",
      "\n",
      "class MCDriver(builtins.object)\n",
      " |  MCDriver(*args, **kwargs)\n",
      " |  \n",
      " |  µc driver for the Awesome Array Python Driver.\n",
      " |  \n",
      " |  \n",
      " |  ...\n",
      " |  Attributes\n",
      " |  -----------\n",
      " |  ser : serial.Serial\n",
      " |          serial port associated with the µc\n",
      " |  \n",
      " |  uc_ack_mode : ACK\n",
      " |          stores the actual ack_mode of the µc\n",
      " |  \n",
      " |  Methods defined here:\n",
      " |  \n",
      " |  __del__(self)\n",
      " |      Closes the serial port if still open.\n",
      " |  \n",
      " |  __init__(self, pid=22336)\n",
      " |      Creates the driver.\n",
      " |      \n",
      " |      Details:\n",
      " |              It will search for the µc using the PID value 'DEFAULT_PID' or the one provided in argument.\n",
      " |              Takes the first found if many have the same PID.\n",
      " |              RAISE if not found.\n",
      " |      \n",
      " |      Arguments:\n",
      " |              pid: optional, the pid to search for.\n",
      " |  \n",
      " |  call_command(self, command, *args)\n",
      " |      Send a command and waits for a return value if needed\n",
      " |      \n",
      " |      Parameters:\n",
      " |              command: The command to send (see CMD_LIST)\n",
      " |              *args: The provided arguments, which will be converted to bytes\n",
      " |      \n",
      " |      Returns:\n",
      " |              The return value of the corresponding command or None\n",
      " |      \n",
      " |      Details:\n",
      " |              Will expect an ack if set with the corresponding 'action' command (driver.ack_mode(ACK.XXX)) (RAISE if expected and not received)\n",
      " |              Will return the value received if the command is a 'get' command\n",
      " |  \n",
      " |  flush_input(self)\n",
      " |      Flushes the input buffer.\n",
      " |  \n",
      " |  read(self, size=None, wait_for=True, flush_rest=True)\n",
      " |      Reads from the µc.\n",
      " |      \n",
      " |      Parameters:\n",
      " |              size:       The number of bytes to read. If None, reads everything.\n",
      " |              wait_for:   When size=None, if True, waits for input ; When size!=None, wait_for is True\n",
      " |              flush_rest: If True, flushes the input buffer if non-empty after {size} bytes have been read.\n",
      " |      \n",
      " |      Returns:\n",
      " |              The bytes read.\n",
      " |  \n",
      " |  send_command(self, command, *args, wait_for_ack=False)\n",
      " |      Sends a command to the µc with the optionnaly provided arguments.\n",
      " |      \n",
      " |      Parameters:\n",
      " |              command: The command to send (see CMD_LIST)\n",
      " |              *args: The provided arguments, which will be converted to bytes\n",
      " |      \n",
      " |      Returns:\n",
      " |              The actual number of bytes sent.\n",
      " |  \n",
      " |  ----------------------------------------------------------------------\n",
      " |  Static methods defined here:\n",
      " |  \n",
      " |  __new__(cls, *args, **kwargs)\n",
      " |      Create and return a new object.  See help(type) for accurate signature.\n",
      " |  \n",
      " |  list_ports()\n",
      " |      Returns a list of all the serial ports recognized by the OS.\n",
      " |  \n",
      " |  print_ports()\n",
      " |      Prints out the useful info about the serial ports recognized by the OS.\n",
      " |  \n",
      " |  ----------------------------------------------------------------------\n",
      " |  Data descriptors defined here:\n",
      " |  \n",
      " |  __dict__\n",
      " |      dictionary for instance variables (if defined)\n",
      " |  \n",
      " |  __weakref__\n",
      " |      list of weak references to the object (if defined)\n",
      " |  \n",
      " |  ----------------------------------------------------------------------\n",
      " |  Data and other attributes defined here:\n",
      " |  \n",
      " |  DEFAULT_PID = 22336\n",
      "\n"
     ]
    }
   ],
   "source": [
    "from aad import mcd\n",
    "\n",
    "help(mcd.MCDriver)"
   ]
  },
  {
   "cell_type": "code",
   "execution_count": 2,
   "metadata": {
    "scrolled": true
   },
   "outputs": [
    {
     "name": "stdout",
     "output_type": "stream",
     "text": [
      "---- List of available commands ----\n",
      "* CMD.SET_SR\n",
      "* CMD.SET_CS\n",
      "* CMD.SET_ADR_R\n",
      "* CMD.SET_ADR_C\n",
      "* CMD.GET_CTL\n",
      "* CMD.CLK\n",
      "* CMD.CLK_SR\n",
      "* CMD.CLK_XNOR\n",
      "* CMD.ACK_MODE\n",
      "* CMD.DEBUG_ECHO\n",
      "* CMD.DEBUG_LED\n"
     ]
    }
   ],
   "source": [
    "print(\"---- List of available commands ----\")\n",
    "for com in mcd.CMD_LIST:\n",
    "    print(\"*\", com)"
   ]
  },
  {
   "cell_type": "markdown",
   "metadata": {},
   "source": [
    "## Description of the commands\n",
    "* `SET_SR`: ['action' command]  \n",
    "    Set Shift Register input bit  \n",
    "    - Argument 0: Shift Register identifier (see SR_LIST)  \n",
    "    - Argument 1: Input bit state (State.RESET or State.SET)  \n",
    "    \n",
    "    \n",
    "* `SET_CS`: ['action' command]  \n",
    "    Set a Control Signal  \n",
    "    - Argument 0: Control Signal identifier (see CS_LIST)  \n",
    "    - Argument 1: Input bit state (State.RESET or State.SET)  \n",
    "    \n",
    "\n",
    "* `SET_ADR_R`: ['action' command]  \n",
    "    Set Row address  \n",
    "    - Argument 0: The 5-bit address (int or bytes)  \n",
    "    \n",
    "    \n",
    "* `SET_ADR_R`:  ['action' command]  \n",
    "    Set Column address  \n",
    "    - Argument 0: The 5-bit address (int or bytes)  \n",
    "    \n",
    "    \n",
    "* `SET_SR`:  ['action' command]  \n",
    "    Set Shift Register input bit  \n",
    "    - Argument 0: Shift Register identifier (see SR_LIST)  \n",
    "    - Argument 1: Input bit state (State.RESET or State.SET)  \n",
    "    \n",
    "     \n",
    "* `GET_CTL`:  ['get' command]  \n",
    "    Get Shift Registers sanity bit  \n",
    "    - Argument 0: Shift Register identifier (see SR_LIST)  \n",
    "    - Returns the bit state (init a State with it for easier manipulation)  \n",
    "    \n",
    "    \n",
    "* `CLK`:  ['action' command]  \n",
    "    Clock once  \n",
    "    \n",
    "    \n",
    "* `CLK_SR`:  ['action' command]  \n",
    "    Clock once the shift registers  \n",
    "    \n",
    "    \n",
    "* `CLK_XNOR`:  ['action' command]  \n",
    "    Clock once the XNOR  \n",
    "    \n",
    "\n",
    "* `ACK_MODE`:  ['action' command]  \n",
    "    Specify the commands which should send acknowledge after completion.  \n",
    "    - Argument 0: Flag of the commands (`ACK.NONE`, `ACK.SET_SR`, `ACK.CLK`, `ACK.ALL` or any combination of (not many for now))  \n",
    "    - Returns ack for `ACK_MODE`, if Argument 0 != `ACK.NONE`  \n",
    "    - **Details** The ack sent is the two bytes [`0xAA`, `{CMD_CODE}`]  \n",
    "    - **Details** There is no ack for commands that already returns data.\n",
    "    \n",
    "    \n",
    "* `DEBUG_ECHO`:  ['get' command]  \n",
    "    Sends back the provided argument  \n",
    "    - Argument 0: byte to echo  \n",
    "    - Returns the byte provided  \n",
    "    \n",
    "    \n",
    "* `DEBUG_LED`:  ['get' command]  \n",
    "    Turn on the three board LEDs for 2s  \n",
    "    * Returns b'Hello, C2N!'  "
   ]
  },
  {
   "cell_type": "markdown",
   "metadata": {},
   "source": [
    "----\n"
   ]
  },
  {
   "cell_type": "code",
   "execution_count": 3,
   "metadata": {},
   "outputs": [
    {
     "name": "stdout",
     "output_type": "stream",
     "text": [
      "---- List of available ports ----\n",
      "COM3 - Intel(R) Active Management Technology - SOL (COM3) | PID:  None\n",
      "COM4 - USB Serial Device (COM4) | PID:  22336\n"
     ]
    }
   ],
   "source": [
    "print(\"---- List of available ports ----\")\n",
    "mcd.MCDriver.print_ports()"
   ]
  },
  {
   "cell_type": "markdown",
   "metadata": {},
   "source": [
    "We see that the µc is at the port `COM4`."
   ]
  },
  {
   "cell_type": "code",
   "execution_count": 4,
   "metadata": {},
   "outputs": [
    {
     "name": "stdout",
     "output_type": "stream",
     "text": [
      "Port selected by the MCDriver: COM4\n"
     ]
    }
   ],
   "source": [
    "driver = mcd.MCDriver()\n",
    "print(\"Port selected by the MCDriver:\", driver.ser.port)"
   ]
  },
  {
   "cell_type": "markdown",
   "metadata": {},
   "source": [
    "The MCDriver selected it by default.  \n",
    "\n",
    "---"
   ]
  },
  {
   "cell_type": "code",
   "execution_count": 5,
   "metadata": {},
   "outputs": [
    {
     "data": {
      "text/plain": [
       "b'Hello, C2N!'"
      ]
     },
     "execution_count": 5,
     "metadata": {},
     "output_type": "execute_result"
    }
   ],
   "source": [
    "driver.debug_led()"
   ]
  },
  {
   "cell_type": "code",
   "execution_count": 6,
   "metadata": {},
   "outputs": [
    {
     "data": {
      "text/plain": [
       "b'!'"
      ]
     },
     "execution_count": 6,
     "metadata": {},
     "output_type": "execute_result"
    }
   ],
   "source": [
    "driver.debug_echo(b'!')"
   ]
  },
  {
   "cell_type": "code",
   "execution_count": 7,
   "metadata": {},
   "outputs": [
    {
     "name": "stdout",
     "output_type": "stream",
     "text": [
      "This should give 'True': False\n"
     ]
    }
   ],
   "source": [
    "# Check WLE sanity\n",
    "driver.ack_mode(mcd.ACK.CLK_SR)\n",
    "\n",
    "driver.set_sr(mcd.SR.WLE, mcd.State.SET)\n",
    "driver.clk_sr()\n",
    "driver.set_sr(mcd.SR.WLE, mcd.State.RESET)\n",
    "\n",
    "for _ in range(63):\n",
    "\tdriver.clk_sr()\n",
    "\n",
    "ctl = driver.get_ctl(mcd.SR.WLE)\n",
    "print(\"This should give 'True':\", ctl == mcd.State.SET)\n",
    "\n",
    "# (Random result for now, it will not when the AwesomeArray will tested and working)"
   ]
  }
 ],
 "metadata": {
  "kernelspec": {
   "display_name": "Python 3.8.8 ('base')",
   "language": "python",
   "name": "python3"
  },
  "language_info": {
   "codemirror_mode": {
    "name": "ipython",
    "version": 3
   },
   "file_extension": ".py",
   "mimetype": "text/x-python",
   "name": "python",
   "nbconvert_exporter": "python",
   "pygments_lexer": "ipython3",
   "version": "3.8.8"
  },
  "vscode": {
   "interpreter": {
    "hash": "468b8cd6d1647506cfe2f52d2d6da2ff11d7cb6a102ed22974833925ef5d7420"
   }
  }
 },
 "nbformat": 4,
 "nbformat_minor": 2
}
