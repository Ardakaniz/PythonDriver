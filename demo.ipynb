{
 "cells": [
  {
   "cell_type": "markdown",
   "metadata": {},
   "source": [
    "# Low-Level Driver Demo\n",
    "This is the low-level driver to make a bridge between the µc and Python.  \n",
    "Therefore, the interface is not convenient and is not intended to be used as is but rather to implement a higher-level driver.  \n",
    "\n",
    "----"
   ]
  },
  {
   "cell_type": "code",
   "execution_count": 1,
   "metadata": {},
   "outputs": [
    {
     "name": "stdout",
     "output_type": "stream",
     "text": [
      "Help on class LLDriver in module lldriver:\n",
      "\n",
      "class LLDriver(builtins.object)\n",
      " |  LLDriver(pid=22336)\n",
      " |  \n",
      " |  Low-Level driver for the Awesome Array Python Driver.\n",
      " |  \n",
      " |  \n",
      " |  ...\n",
      " |  Attributes\n",
      " |  -----------\n",
      " |  ser : serial.Serial\n",
      " |          serial port associated with the µc\n",
      " |  \n",
      " |  Methods defined here:\n",
      " |  \n",
      " |  __del__(self)\n",
      " |      Closes the serial port if still open.\n",
      " |  \n",
      " |  __init__(self, pid=22336)\n",
      " |      Creates the driver.\n",
      " |      \n",
      " |      Details:\n",
      " |              It will search for the µc using the PID value 'DEFAULT_PID' or the one provided in argument.\n",
      " |              Takes the first found if many have the same PID.\n",
      " |              RAISE if not found.\n",
      " |      \n",
      " |      Arguments:\n",
      " |              pid: optional, the pid to search for.\n",
      " |  \n",
      " |  commands(name=None)\n",
      " |      [STATIC] Returns a list of the available µc commands or its hex code if a name is provided.\n",
      " |  \n",
      " |  list_ports()\n",
      " |      [STATIC] Returns a list of all the serial ports recognized by the OS.\n",
      " |  \n",
      " |  print_ports()\n",
      " |      [STATIC] Prints out the useful info about the serial ports recognized by the OS.\n",
      " |  \n",
      " |  read(self, size=None, wait_for=False, flush_rest=True)\n",
      " |      Reads from the µc.\n",
      " |      \n",
      " |      Parameters:\n",
      " |              size:       The number of bytes to read. If None, reads everything.\n",
      " |              wait_for:   If True, will wait until an input is available. If size != None, wait_for=True.\n",
      " |              flush_rest: If True, flushes the input buffer if non-empty after {size} bytes have been read.\n",
      " |      \n",
      " |      Returns:\n",
      " |              The bytes read.\n",
      " |  \n",
      " |  send_command(self, command, *kwargs)\n",
      " |      Sends a command to the µc with the optionnaly provided arguments.\n",
      " |      \n",
      " |      Parameters:\n",
      " |              command: The command to send (see LLDriver.commands())\n",
      " |              *kwargs: The provided arguments, which will be converted to bytes\n",
      " |      \n",
      " |      Returns:\n",
      " |              The actual number of bytes sent.\n",
      " |  \n",
      " |  ----------------------------------------------------------------------\n",
      " |  Data descriptors defined here:\n",
      " |  \n",
      " |  __dict__\n",
      " |      dictionary for instance variables (if defined)\n",
      " |  \n",
      " |  __weakref__\n",
      " |      list of weak references to the object (if defined)\n",
      " |  \n",
      " |  ----------------------------------------------------------------------\n",
      " |  Data and other attributes defined here:\n",
      " |  \n",
      " |  DEFAULT_PID = 22336\n",
      "\n"
     ]
    }
   ],
   "source": [
    "import lldriver as lld\n",
    "\n",
    "help(lld.LLDriver)"
   ]
  },
  {
   "cell_type": "code",
   "execution_count": 2,
   "metadata": {
    "scrolled": true
   },
   "outputs": [
    {
     "name": "stdout",
     "output_type": "stream",
     "text": [
      "\n",
      "---- List of available commands ----\n",
      "* SET_SR\n",
      "* CLK\n",
      "* GET_CTL\n",
      "* DBG:PING\n",
      "* DBG:LED\n"
     ]
    }
   ],
   "source": [
    "print(\"\\n---- List of available commands ----\")\n",
    "for com in lld.LLDriver.commands():\n",
    "    print(\"*\", com)"
   ]
  },
  {
   "cell_type": "markdown",
   "metadata": {},
   "source": [
    "## Description of the commands\n",
    "* `SET_SR`:\n",
    "    Set Shift Register input bit\n",
    "    * Argument 0: ID of the Shift Register (see Shift Register IDs below)  \n",
    "    * Argument 1: Input bit state (0 = RESET, otherwise = SET)  \n",
    "    \n",
    "    \n",
    "* `CLK`:\n",
    "    Clock once the Shift Registers\n",
    "    \n",
    "    \n",
    "* `GET_CTL`:\n",
    "    Get Shift Registers sanity bit\n",
    "    * Argument 0: ID of the Shift Register (see Shift Register IDs below)  \n",
    "    =======\n",
    "    * Returns the bit state (0 = RESET, 1 = SET)\n",
    "\n",
    "    \n",
    "* `DBG:PING`:\n",
    "    Sends back the provided argument\n",
    "    * Argument 0: byte to echo\n",
    "    =======\n",
    "    * Returns the byte provided\n",
    "    \n",
    "    \n",
    "* `DBG:LED`:\n",
    "    Turn on the three board LEDs for 2s\n",
    "    * Returns b'Hello, C2N!'\n",
    "\n",
    "### Shift Register IDs\n",
    "| SR    | ID  |\n",
    "| ----- | --- |\n",
    "| `WLE` | 0   |\n",
    "| `WLO` | 1   |\n",
    "| `SL`  | 2   |\n",
    "| `BL`  | 3   |\n",
    "| `BLb` | 4   |"
   ]
  },
  {
   "cell_type": "markdown",
   "metadata": {},
   "source": [
    "----\n"
   ]
  },
  {
   "cell_type": "code",
   "execution_count": 3,
   "metadata": {},
   "outputs": [
    {
     "name": "stdout",
     "output_type": "stream",
     "text": [
      "---- List of available ports ----\n",
      "COM3 - Intel(R) Active Management Technology - SOL (COM3) | PID:  None\n",
      "COM1 - Communications Port (COM1) | PID:  None\n",
      "COM5 - STMicroelectronics STLink Virtual COM Port (COM5) | PID:  14155\n",
      "COM6 - USB Serial Device (COM6) | PID:  22336\n",
      "\n"
     ]
    }
   ],
   "source": [
    "print(\"---- List of available ports ----\")\n",
    "lld.LLDriver.print_ports()"
   ]
  },
  {
   "cell_type": "markdown",
   "metadata": {},
   "source": [
    "We see that the µc is at the port COM6."
   ]
  },
  {
   "cell_type": "code",
   "execution_count": 4,
   "metadata": {},
   "outputs": [
    {
     "name": "stdout",
     "output_type": "stream",
     "text": [
      "Port selected by the LLDriver: COM6\n"
     ]
    }
   ],
   "source": [
    "driver = lld.LLDriver()\n",
    "print(\"Port selected by the LLDriver:\", driver.ser.port)"
   ]
  },
  {
   "cell_type": "markdown",
   "metadata": {},
   "source": [
    "The LLDriver selected it by default.  \n",
    "Now for the commands."
   ]
  },
  {
   "cell_type": "code",
   "execution_count": 5,
   "metadata": {},
   "outputs": [
    {
     "data": {
      "text/plain": [
       "b'Hello, C2N!'"
      ]
     },
     "execution_count": 5,
     "metadata": {},
     "output_type": "execute_result"
    }
   ],
   "source": [
    "driver.send_command('DBG:LED')\n",
    "driver.read()"
   ]
  },
  {
   "cell_type": "code",
   "execution_count": 6,
   "metadata": {},
   "outputs": [
    {
     "data": {
      "text/plain": [
       "b'!'"
      ]
     },
     "execution_count": 6,
     "metadata": {},
     "output_type": "execute_result"
    }
   ],
   "source": [
    "driver.send_command('DBG:PING', b'!')\n",
    "driver.read()"
   ]
  },
  {
   "cell_type": "code",
   "execution_count": 7,
   "metadata": {},
   "outputs": [],
   "source": [
    "# Check WLE sanity | TO EXEC\n",
    "\n",
    "driver.send_command('SET_SR', b'\\x00', b'\\x01')\n",
    "driver.send_command('CLK')\n",
    "driver.send_command('SET_SR', b'\\x00', b'\\x00')\n",
    "\n",
    "for _ in range(63):\n",
    "\tdriver.send_command('CLK')\n",
    "\n",
    "driver.send_command('GET_CTL', b'\\x00')\n",
    "print(\"This should give b'\\x01':\", driver.read())"
   ]
  }
 ],
 "metadata": {
  "interpreter": {
   "hash": "916dbcbb3f70747c44a77c7bcd40155683ae19c65e1c03b4aa3499c5328201f1"
  },
  "kernelspec": {
   "display_name": "Python 3 (ipykernel)",
   "language": "python",
   "name": "python3"
  },
  "language_info": {
   "codemirror_mode": {
    "name": "ipython",
    "version": 3
   },
   "file_extension": ".py",
   "mimetype": "text/x-python",
   "name": "python",
   "nbconvert_exporter": "python",
   "pygments_lexer": "ipython3",
   "version": "3.9.2"
  }
 },
 "nbformat": 4,
 "nbformat_minor": 2
}
