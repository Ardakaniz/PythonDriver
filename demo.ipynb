{
 "cells": [
  {
   "cell_type": "code",
   "execution_count": 1,
   "metadata": {},
   "outputs": [],
   "source": [
    "import lldriver as lld"
   ]
  },
  {
   "cell_type": "code",
   "execution_count": 8,
   "metadata": {},
   "outputs": [
    {
     "data": {
      "text/plain": [
       "['FILL_REGS', 'DBG:LED', 'DBG:SHIFTREG']"
      ]
     },
     "execution_count": 8,
     "metadata": {},
     "output_type": "execute_result"
    }
   ],
   "source": [
    "lld.LLDriver.commands()"
   ]
  },
  {
   "cell_type": "code",
   "execution_count": 9,
   "metadata": {},
   "outputs": [
    {
     "ename": "Exception",
     "evalue": "No STLink found, please select one",
     "output_type": "error",
     "traceback": [
      "\u001b[0;31m---------------------------------------------------------------------------\u001b[0m",
      "\u001b[0;31mException\u001b[0m                                 Traceback (most recent call last)",
      "\u001b[1;32m/shared/Documents/Cours/Stages/L3/Codes/pythondriver/demo.ipynb Cell 3'\u001b[0m in \u001b[0;36m<cell line: 1>\u001b[0;34m()\u001b[0m\n\u001b[0;32m----> <a href='vscode-notebook-cell:/shared/Documents/Cours/Stages/L3/Codes/pythondriver/demo.ipynb#ch0000004?line=0'>1</a>\u001b[0m driver \u001b[39m=\u001b[39m lld\u001b[39m.\u001b[39;49mLLDriver()\n",
      "File \u001b[0;32m/shared/Documents/Cours/Stages/L3/Codes/pythondriver/lldriver/__init__.py:26\u001b[0m, in \u001b[0;36mLLDriver.__init__\u001b[0;34m(self, st_port)\u001b[0m\n\u001b[1;32m     <a href='file:///shared/Documents/Cours/Stages/L3/Codes/pythondriver/lldriver/__init__.py?line=22'>23</a>\u001b[0m \t\t\t\u001b[39mbreak\u001b[39;00m\n\u001b[1;32m     <a href='file:///shared/Documents/Cours/Stages/L3/Codes/pythondriver/lldriver/__init__.py?line=24'>25</a>\u001b[0m \t\u001b[39mif\u001b[39;00m st_port \u001b[39mis\u001b[39;00m \u001b[39mNone\u001b[39;00m:\n\u001b[0;32m---> <a href='file:///shared/Documents/Cours/Stages/L3/Codes/pythondriver/lldriver/__init__.py?line=25'>26</a>\u001b[0m \t\t\u001b[39mraise\u001b[39;00m \u001b[39mException\u001b[39;00m(\u001b[39m\"\u001b[39m\u001b[39mNo STLink found, please select one\u001b[39m\u001b[39m\"\u001b[39m)\n\u001b[1;32m     <a href='file:///shared/Documents/Cours/Stages/L3/Codes/pythondriver/lldriver/__init__.py?line=27'>28</a>\u001b[0m \u001b[39mself\u001b[39m\u001b[39m.\u001b[39mser\u001b[39m.\u001b[39mport \u001b[39m=\u001b[39m st_port\n\u001b[1;32m     <a href='file:///shared/Documents/Cours/Stages/L3/Codes/pythondriver/lldriver/__init__.py?line=28'>29</a>\u001b[0m \u001b[39mself\u001b[39m\u001b[39m.\u001b[39mser\u001b[39m.\u001b[39mopen()\n",
      "\u001b[0;31mException\u001b[0m: No STLink found, please select one"
     ]
    }
   ],
   "source": [
    "driver = lld.LLDriver()"
   ]
  }
 ],
 "metadata": {
  "interpreter": {
   "hash": "916dbcbb3f70747c44a77c7bcd40155683ae19c65e1c03b4aa3499c5328201f1"
  },
  "kernelspec": {
   "display_name": "Python 3.9.2 64-bit",
   "language": "python",
   "name": "python3"
  },
  "language_info": {
   "codemirror_mode": {
    "name": "ipython",
    "version": 3
   },
   "file_extension": ".py",
   "mimetype": "text/x-python",
   "name": "python",
   "nbconvert_exporter": "python",
   "pygments_lexer": "ipython3",
   "version": "3.9.2"
  },
  "orig_nbformat": 4
 },
 "nbformat": 4,
 "nbformat_minor": 2
}
